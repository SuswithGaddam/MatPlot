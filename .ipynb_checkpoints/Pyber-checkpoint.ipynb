{
 "cells": [
  {
   "cell_type": "code",
   "execution_count": 78,
   "metadata": {},
   "outputs": [],
   "source": [
    "import pandas as pd\n",
    "import matplotlib.pyplot as plt"
   ]
  },
  {
   "cell_type": "code",
   "execution_count": 79,
   "metadata": {},
   "outputs": [],
   "source": [
    "city_df = pd.read_csv(\"Resources/city_data.csv\")\n",
    "ride_df = pd.read_csv(\"Resources/ride_data.csv\")\n",
    "# city_df.head()\n",
    "# ride_df.head()"
   ]
  },
  {
   "cell_type": "code",
   "execution_count": 80,
   "metadata": {},
   "outputs": [
    {
     "data": {
      "text/html": [
       "<div>\n",
       "<style scoped>\n",
       "    .dataframe tbody tr th:only-of-type {\n",
       "        vertical-align: middle;\n",
       "    }\n",
       "\n",
       "    .dataframe tbody tr th {\n",
       "        vertical-align: top;\n",
       "    }\n",
       "\n",
       "    .dataframe thead th {\n",
       "        text-align: right;\n",
       "    }\n",
       "</style>\n",
       "<table border=\"1\" class=\"dataframe\">\n",
       "  <thead>\n",
       "    <tr style=\"text-align: right;\">\n",
       "      <th></th>\n",
       "      <th>city</th>\n",
       "      <th>driver_count</th>\n",
       "      <th>type</th>\n",
       "      <th>date</th>\n",
       "      <th>fare</th>\n",
       "      <th>ride_id</th>\n",
       "    </tr>\n",
       "  </thead>\n",
       "  <tbody>\n",
       "    <tr>\n",
       "      <th>0</th>\n",
       "      <td>Richardfort</td>\n",
       "      <td>38</td>\n",
       "      <td>Urban</td>\n",
       "      <td>2018-02-24 08:40:38</td>\n",
       "      <td>13.93</td>\n",
       "      <td>5628545007794</td>\n",
       "    </tr>\n",
       "    <tr>\n",
       "      <th>1</th>\n",
       "      <td>Richardfort</td>\n",
       "      <td>38</td>\n",
       "      <td>Urban</td>\n",
       "      <td>2018-02-13 12:46:07</td>\n",
       "      <td>14.00</td>\n",
       "      <td>910050116494</td>\n",
       "    </tr>\n",
       "    <tr>\n",
       "      <th>2</th>\n",
       "      <td>Richardfort</td>\n",
       "      <td>38</td>\n",
       "      <td>Urban</td>\n",
       "      <td>2018-02-16 13:52:19</td>\n",
       "      <td>17.92</td>\n",
       "      <td>820639054416</td>\n",
       "    </tr>\n",
       "    <tr>\n",
       "      <th>3</th>\n",
       "      <td>Richardfort</td>\n",
       "      <td>38</td>\n",
       "      <td>Urban</td>\n",
       "      <td>2018-02-01 20:18:28</td>\n",
       "      <td>10.26</td>\n",
       "      <td>9554935945413</td>\n",
       "    </tr>\n",
       "    <tr>\n",
       "      <th>4</th>\n",
       "      <td>Richardfort</td>\n",
       "      <td>38</td>\n",
       "      <td>Urban</td>\n",
       "      <td>2018-04-17 02:26:37</td>\n",
       "      <td>23.00</td>\n",
       "      <td>720020655850</td>\n",
       "    </tr>\n",
       "  </tbody>\n",
       "</table>\n",
       "</div>"
      ],
      "text/plain": [
       "          city  driver_count   type                 date   fare        ride_id\n",
       "0  Richardfort            38  Urban  2018-02-24 08:40:38  13.93  5628545007794\n",
       "1  Richardfort            38  Urban  2018-02-13 12:46:07  14.00   910050116494\n",
       "2  Richardfort            38  Urban  2018-02-16 13:52:19  17.92   820639054416\n",
       "3  Richardfort            38  Urban  2018-02-01 20:18:28  10.26  9554935945413\n",
       "4  Richardfort            38  Urban  2018-04-17 02:26:37  23.00   720020655850"
      ]
     },
     "execution_count": 80,
     "metadata": {},
     "output_type": "execute_result"
    }
   ],
   "source": [
    "#Merge both dfs on = city\n",
    "city_ride_df = pd.merge(city_df, ride_df, on='city')\n",
    "city_ride_df.head()\n",
    "# city_ride_df.info()"
   ]
  },
  {
   "cell_type": "code",
   "execution_count": 81,
   "metadata": {},
   "outputs": [
    {
     "data": {
      "text/html": [
       "<div>\n",
       "<style scoped>\n",
       "    .dataframe tbody tr th:only-of-type {\n",
       "        vertical-align: middle;\n",
       "    }\n",
       "\n",
       "    .dataframe tbody tr th {\n",
       "        vertical-align: top;\n",
       "    }\n",
       "\n",
       "    .dataframe thead th {\n",
       "        text-align: right;\n",
       "    }\n",
       "</style>\n",
       "<table border=\"1\" class=\"dataframe\">\n",
       "  <thead>\n",
       "    <tr style=\"text-align: right;\">\n",
       "      <th></th>\n",
       "      <th>Average Fare By City</th>\n",
       "      <th>City Type</th>\n",
       "      <th>Total Drivers By City</th>\n",
       "      <th>Total Fare By City</th>\n",
       "      <th>Total Rides By City</th>\n",
       "    </tr>\n",
       "    <tr>\n",
       "      <th>city</th>\n",
       "      <th></th>\n",
       "      <th></th>\n",
       "      <th></th>\n",
       "      <th></th>\n",
       "      <th></th>\n",
       "    </tr>\n",
       "  </thead>\n",
       "  <tbody>\n",
       "    <tr>\n",
       "      <th>Amandaburgh</th>\n",
       "      <td>24.641667</td>\n",
       "      <td>Urban</td>\n",
       "      <td>12</td>\n",
       "      <td>443.55</td>\n",
       "      <td>18</td>\n",
       "    </tr>\n",
       "    <tr>\n",
       "      <th>Barajasview</th>\n",
       "      <td>25.332273</td>\n",
       "      <td>Urban</td>\n",
       "      <td>26</td>\n",
       "      <td>557.31</td>\n",
       "      <td>22</td>\n",
       "    </tr>\n",
       "    <tr>\n",
       "      <th>Barronchester</th>\n",
       "      <td>36.422500</td>\n",
       "      <td>Suburban</td>\n",
       "      <td>11</td>\n",
       "      <td>582.76</td>\n",
       "      <td>16</td>\n",
       "    </tr>\n",
       "    <tr>\n",
       "      <th>Bethanyland</th>\n",
       "      <td>32.956111</td>\n",
       "      <td>Suburban</td>\n",
       "      <td>22</td>\n",
       "      <td>593.21</td>\n",
       "      <td>18</td>\n",
       "    </tr>\n",
       "    <tr>\n",
       "      <th>Bradshawfurt</th>\n",
       "      <td>40.064000</td>\n",
       "      <td>Rural</td>\n",
       "      <td>7</td>\n",
       "      <td>400.64</td>\n",
       "      <td>10</td>\n",
       "    </tr>\n",
       "  </tbody>\n",
       "</table>\n",
       "</div>"
      ],
      "text/plain": [
       "               Average Fare By City City Type  Total Drivers By City  \\\n",
       "city                                                                   \n",
       "Amandaburgh               24.641667     Urban                     12   \n",
       "Barajasview               25.332273     Urban                     26   \n",
       "Barronchester             36.422500  Suburban                     11   \n",
       "Bethanyland               32.956111  Suburban                     22   \n",
       "Bradshawfurt              40.064000     Rural                      7   \n",
       "\n",
       "               Total Fare By City  Total Rides By City  \n",
       "city                                                    \n",
       "Amandaburgh                443.55                   18  \n",
       "Barajasview                557.31                   22  \n",
       "Barronchester              582.76                   16  \n",
       "Bethanyland                593.21                   18  \n",
       "Bradshawfurt               400.64                   10  "
      ]
     },
     "execution_count": 81,
     "metadata": {},
     "output_type": "execute_result"
    }
   ],
   "source": [
    "#To create bubble plot, need to get the value by grouping the merged df by city\n",
    "city_ride_gb = city_ride_df.groupby('city')\n",
    "avg_fare_by_city = city_ride_gb['fare'].mean()\n",
    "total_fare_by_city = city_ride_gb['fare'].sum()\n",
    "total_cityRides = city_ride_gb['ride_id'].count()\n",
    "total_cityDrivers = city_ride_gb['driver_count'].max()\n",
    "city_type = city_ride_gb['type'].max()\n",
    "# print(total_cityRides)\n",
    "# print(city_type) --> Need to use a function to be able to print the values!\n",
    "# print(city_type)\n",
    "bubble_dict = {\"Average Fare By City\":avg_fare_by_city,\n",
    "               \"Total Fare By City\": total_fare_by_city,\n",
    "               \"City Type\":city_type,\n",
    "               \"Total Rides By City\":total_cityRides,\n",
    "               \"Total Drivers By City\":total_cityDrivers\n",
    "              }\n",
    "\n",
    "#create a df with above dict to manipulat the scatter/bubble plot variables\n",
    "bubble_df = pd.DataFrame(data = bubble_dict)\n",
    "bubble_df.head()"
   ]
  },
  {
   "cell_type": "code",
   "execution_count": 82,
   "metadata": {},
   "outputs": [],
   "source": [
    "#Urban Data\n",
    "urban_city_df = bubble_df.loc[bubble_df[\"City Type\"]==\"Urban\"]\n",
    "average_fare_urban = urban_city_df[\"Average Fare By City\"]\n",
    "# type(average_fare_urban)\n",
    "total_rides_urban = urban_city_df[\"Total Rides By City\"]\n",
    "total_drivers_urban = urban_city_df[\"Total Drivers By City\"]"
   ]
  },
  {
   "cell_type": "code",
   "execution_count": 83,
   "metadata": {},
   "outputs": [],
   "source": [
    "#Suburban Data\n",
    "suburban_city_df = bubble_df.loc[bubble_df[\"City Type\"]==\"Suburban\"]\n",
    "average_fare_suburban = suburban_city_df[\"Average Fare By City\"]\n",
    "total_rides_suburban = suburban_city_df[\"Total Rides By City\"]\n",
    "total_drivers_suburban = suburban_city_df[\"Total Drivers By City\"]\n",
    "# print(len(total_drivers_suburban))"
   ]
  },
  {
   "cell_type": "code",
   "execution_count": 84,
   "metadata": {},
   "outputs": [],
   "source": [
    "#Rural Data\n",
    "rural_city_df = bubble_df.loc[bubble_df[\"City Type\"]==\"Rural\"]\n",
    "average_fare_rural = rural_city_df[\"Average Fare By City\"]\n",
    "total_rides_rural = rural_city_df[\"Total Rides By City\"]\n",
    "total_drivers_rural = rural_city_df[\"Total Drivers By City\"]"
   ]
  },
  {
   "cell_type": "code",
   "execution_count": 111,
   "metadata": {},
   "outputs": [
    {
     "data": {
      "image/png": "[encoded data removed]",
      "text/plain": [
       "<matplotlib.figure.Figure at 0x1230d65c0>"
      ]
     },
     "metadata": {},
     "output_type": "display_data"
    }
   ],
   "source": [
    "#Plot the Bubble Graph - Urban(Light Coral), Suburbab(Light Sky Blue), Rural(Gold)\n",
    "plt.scatter(total_rides_urban,average_fare_urban,s=6*total_drivers_urban,c=\"lightcoral\",edgecolor =\"black\",label = \"Urban\")\n",
    "plt.scatter(total_rides_suburban,average_fare_suburban,s=6*total_drivers_suburban,c=\"lightskyblue\",edgecolor =\"black\",label = \"Suburban\")\n",
    "plt.scatter(total_rides_rural,average_fare_rural,s=6*total_drivers_rural,c=\"gold\",edgecolor =\"black\",label = \"Rural\")\n",
    "plt.title(\"Pyber Ride Sharing Data (2018)\")\n",
    "plt.xlabel(\"Total Number of Riders (Per City)\")\n",
    "plt.ylabel(\"Average Fare ($)\")\n",
    "plt.xlim(0,40)\n",
    "plt.ylim(15,45)\n",
    "plt.grid('on')\n",
    "lgnd = plt.legend(loc = 1, title = \"City Types\", markerscale = 0.5)\n",
    "lgnd.legendHandles[0]._sizes = [30]\n",
    "lgnd.legendHandles[1]._sizes = [30]\n",
    "lgnd.legendHandles[2]._sizes = [30]\n",
    "plt.text(42,35,\"Note:\\nCircle size correlates with driver count per city\")\n",
    "plt.tight_layout()\n",
    "plt.show()"
   ]
  },
  {
   "cell_type": "code",
   "execution_count": null,
   "metadata": {},
   "outputs": [],
   "source": []
  }
 ],
 "metadata": {
  "kernelspec": {
   "display_name": "Python 3",
   "language": "python",
   "name": "python3"
  },
  "language_info": {
   "codemirror_mode": {
    "name": "ipython",
    "version": 3
   },
   "file_extension": ".py",
   "mimetype": "text/x-python",
   "name": "python",
   "nbconvert_exporter": "python",
   "pygments_lexer": "ipython3",
   "version": "3.6.4"
  }
 },
 "nbformat": 4,
 "nbformat_minor": 2
}
